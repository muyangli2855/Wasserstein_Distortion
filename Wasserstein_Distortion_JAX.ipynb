{
 "cells": [
  {
   "cell_type": "code",
   "execution_count": null,
   "metadata": {
    "id": "IqR2PQG4ZaZ0"
   },
   "outputs": [],
   "source": [
    "from google3.experimental.users.jballe.colab.jax import *\n",
    "from collections import defaultdict\n",
    "import math\n",
    "from typing import Callable\n",
    "import flax\n"
   ]
  },
  {
   "cell_type": "code",
   "execution_count": null,
   "metadata": {
    "id": "hs1dztq8f_iF"
   },
   "outputs": [],
   "source": [
    "from jax import config\n",
    "# config.update(\"jax_debug_nans\", True)\n",
    "# config.update(\"jax_debug_infs\", True)\n"
   ]
  },
  {
   "cell_type": "code",
   "execution_count": null,
   "metadata": {
    "id": "CdFvuivestIr"
   },
   "outputs": [],
   "source": [
    "jax.devices()\n"
   ]
  },
  {
   "cell_type": "code",
   "execution_count": null,
   "metadata": {
    "id": "YrnnsSxmLuJs"
   },
   "outputs": [],
   "source": [
    "%no_vertical_scrollbar\n",
    "\n",
    "# brick wall\n",
    "# reference = mediapy.read_image(\"https://unsplash.com/photos/9f3tCfHoGDE/download?ixid=M3wxMjA3fDB8MXx0b3BpY3x8aVVJc25WdGpCMFl8fHx8fDJ8fDE3MTQ1OTMxNjR8&force=true&w=600\")\n",
    "# grass\n",
    "# reference = mediapy.read_image(\"https://unsplash.com/photos/C2PCa6DhlYE/download?ixid=M3wxMjA3fDB8MXxhbGx8fHx8fHx8fHwxNzEzODc3OTg1fA&force=true&w=400\")\n",
    "# zion\n",
    "# reference = mediapy.read_image(\"https://unsplash.com/photos/LvbsrFcbDo8/download?ixid=M3wxMjA3fDB8MXxhbGx8NTJ8fHx8fHwyfHwxNzE0Njc4MjA5fA&force=true&w=600\")\n",
    "# manhattanhenge\n",
    "# reference = mediapy.read_image(\"https://unsplash.com/photos/8gWXf45We4Q/download?ixid=M3wxMjA3fDB8MXxzZWFyY2h8MXx8bWFuaGF0dGFuaGVuZ2V8ZW58MHx8fHwxNzE0Njc5MjUzfDA&force=true&w=400\")\n",
    "# flowers\n",
    "# reference = mediapy.read_image(\"https://unsplash.com/photos/1kGvoC9g2DY/download?ixid=M3wxMjA3fDB8MXxhbGx8fHx8fHx8fHwxNzE0NjgwOTU3fA&force=true&w=400\")\n",
    "# boat\n",
    "# reference = mediapy.read_image(\"https://unsplash.com/photos/kmcYs7FUFpA/download?ixid=M3wxMjA3fDB8MXxzZWFyY2h8MTB8fG9jZWFuJTIwYm9hdHxlbnwwfHx8fDE3MTQ2ODQ1NTJ8MA&force=true&w=600\")\n",
    "# old town\n",
    "# reference = mediapy.read_image(\"https://unsplash.com/photos/-uAtopUxcgU/download?ixid=M3wxMjA3fDB8MXx0b3BpY3x8RnpvM3p1T0hONnd8fHx8fDJ8fDE3MTQ2ODQ5OTN8&force=true&w=400\")\n",
    "# alhambra\n",
    "# reference = mediapy.read_image(\"https://unsplash.com/photos/nowbpvuHT9k/download?ixid=M3wxMjA3fDB8MXxzZWFyY2h8MjIzfHxhbGhhbWJyYXxlbnwwfHx8fDE3MTQ2ODg4MTl8MA&force=true&w=400\")\n",
    "# snake\n",
    "reference = mediapy.read_image(\"https://unsplash.com/photos/gUeEQ-eOhzs/download?ixid=M3wxMjA3fDB8MXxhbGx8Mzc2fHx8fHx8Mnx8MTcxNDY5ODM3OXw&force=true&w=600\")\n",
    "# room\n",
    "# reference = mediapy.read_image(\"https://unsplash.com/photos/RRjC0r8GwpI/download?ixid=M3wxMjA3fDB8MXxhbGx8NjA1fHx8fHx8Mnx8MTcxNDY5ODg4NHw&force=true&w=600\")\n",
    "# beach people\n",
    "# reference = mediapy.read_image(\"https://unsplash.com/photos/GI1TjAX3MtI/download?ixid=M3wxMjA3fDB8MXxhbGx8Njg4fHx8fHx8Mnx8MTcxNDY5OTM3Nnw&force=true&w=400\")\n",
    "# beach rock\n",
    "# reference = mediapy.read_image(\"https://unsplash.com/photos/elyAcITxBYI/download?ixid=M3wxMjA3fDB8MXxhbGx8NzA1fHx8fHx8Mnx8MTcxNDY5OTM3OHw&force=true&w=400\")\n",
    "\n",
    "reference = (reference / 255).transpose((2, 0, 1))\n",
    "print(reference.shape)\n",
    "\n",
    "mediapy.show_image(reference.transpose((1, 2, 0)))\n"
   ]
  },
  {
   "cell_type": "code",
   "execution_count": null,
   "metadata": {
    "id": "s6z9_0pewZo3"
   },
   "outputs": [],
   "source": [
    "LP_KERNEL = np.array([.25, .5, .25])\n",
    "\n",
    "plt.plot(scipy.fft.fftfreq(1000), abs(scipy.fft.fft(LP_KERNEL, 1000)))\n",
    "plt.xticks([-.5, -.25, 0, .25, .5])\n",
    "plt.ylim(ymin=0)\n",
    "plt.grid()\n"
   ]
  },
  {
   "cell_type": "code",
   "execution_count": null,
   "metadata": {
    "id": "25o3hf2TmiWV"
   },
   "outputs": [],
   "source": [
    "LP_KERNEL = jnp.array([.25, .5, .25])\n",
    "LP_KERNEL = jnp.outer(LP_KERNEL, LP_KERNEL)[None, None]\n",
    "\n",
    "\n",
    "def lowpass(features, stride):\n",
    "  \"\"\"Lowpass filters a feature array of shape (batch, height, width).\"\"\"\n",
    "  return jax.lax.conv(\n",
    "      features[:, None],\n",
    "      LP_KERNEL,\n",
    "      window_strides=(stride, stride),\n",
    "      padding=\"same\",\n",
    "  ).squeeze(1)\n",
    "\n",
    "\n",
    "def compute_multiscale_stats(features, levels):\n",
    "  \"\"\"Computes local mean and variance of a feature array.\"\"\"\n",
    "  squared = jnp.square(features)\n",
    "  means = []\n",
    "  variances = []\n",
    "  for _ in range(levels):\n",
    "    m = lowpass(features, 1)\n",
    "    p = lowpass(squared, 1)\n",
    "    means.append(m)\n",
    "    variances.append(p - jnp.square(m))\n",
    "    features = m[..., ::2, ::2]\n",
    "    squared = p[..., ::2, ::2]\n",
    "  return means, variances\n",
    "\n",
    "\n",
    "def wasserstein_distortion(features_a, features_b, log_sigma, levels=5):\n",
    "  means_a, variances_a = compute_multiscale_stats(features_a, levels)\n",
    "  means_b, variances_b = compute_multiscale_stats(features_b, levels)\n",
    "  wd_maps = [jnp.square(features_a - features_b)]\n",
    "  assert len(means_a) == len(means_b) == len(variances_a) == len(variances_b)\n",
    "  for ma, mb, va, vb in zip(means_a, means_b, variances_a, variances_b):\n",
    "    sa = jnp.sqrt(va + 1e-4)\n",
    "    sb = jnp.sqrt(vb + 1e-4)\n",
    "    wd_maps.append(jnp.square(ma - mb) + jnp.square(sa - sb))\n",
    "  assert len(wd_maps) == levels + 1\n",
    "  dist = 0.\n",
    "  stuff = defaultdict(list, wd_maps=wd_maps)\n",
    "  for i, wd_map in enumerate(wd_maps):\n",
    "    weight = jax.nn.relu(1 - abs(log_sigma - i))\n",
    "    stuff[\"weights\"].append(weight)\n",
    "    dist += jnp.mean(weight * wd_map)\n",
    "    if i > 0:\n",
    "      log_sigma = lowpass(log_sigma[None], 2).squeeze(0)\n",
    "  return dist, stuff\n"
   ]
  },
  {
   "cell_type": "code",
   "execution_count": null,
   "metadata": {
    "id": "djQfLYEucL17"
   },
   "outputs": [],
   "source": [
    "VGG_SHIFT = (1.0 + np.array([-.030, -.088, -.188])) / 2.0\n",
    "VGG_SCALE = np.array([.458, .448, .450]) / 2.0\n",
    "\n",
    "\n",
    "class VggBlock(flax.linen.Module):\n",
    "  \"\"\"One block within the VGG network.\"\"\"\n",
    "  num_features: int\n",
    "  num_layers: int\n",
    "\n",
    "  @flax.linen.compact\n",
    "  def __call__(self, x):\n",
    "    for _ in range(self.num_layers):\n",
    "      x = flax.linen.Conv(\n",
    "          features=self.num_features,\n",
    "          kernel_size=(3, 3),\n",
    "          padding=\"same\",\n",
    "      )(x)\n",
    "      x = flax.linen.relu(x)\n",
    "    return x\n",
    "\n",
    "\n",
    "class VggNet(flax.linen.Module):\n",
    "  \"\"\"VGG network which returns intermediate activations.\"\"\"\n",
    "\n",
    "  @flax.linen.compact\n",
    "  def __call__(self, x):\n",
    "    assert x.shape[-2] >= 16, str(x.shape)\n",
    "    assert x.shape[-3] >= 16, str(x.shape)\n",
    "    outputs = [x]\n",
    "    for params in ((64, 2), (128, 2), (256, 3), (512, 3), (512, 3)):\n",
    "      x = VggBlock(*params)(x)\n",
    "      outputs.append(x)\n",
    "      x = flax.linen.avg_pool(x, window_shape=(2, 2), strides=(2, 2))\n",
    "    return outputs\n",
    "\n",
    "\n",
    "def read_params(filename=None):\n",
    "  params = VggNet().init(jax.random.PRNGKey(0), jnp.zeros([1, 224, 224, 3]))\n",
    "  if filename is None:\n",
    "    filename = \"/cns/tp-d/home/theis/vgg_params.bin\"\n",
    "  with gfile.Open(filename, \"rb\") as f:\n",
    "    return flax.serialization.from_bytes(params, f.read())\n",
    "\n",
    "\n",
    "def compute_features(params, image):\n",
    "  image = jnp.transpose(image, (1, 2, 0))[None]\n",
    "  image = (image - VGG_SHIFT) / VGG_SCALE\n",
    "  features = VggNet().apply(params, image)\n",
    "  return [jnp.squeeze(f, 0).transpose((2, 0, 1)) for f in features]\n"
   ]
  },
  {
   "cell_type": "code",
   "execution_count": null,
   "metadata": {
    "id": "sXCAqiw3L6Oa"
   },
   "outputs": [],
   "source": [
    "sigma = np.outer(\n",
    "    scipy.signal.gaussian(reference.shape[-2], 100),\n",
    "    scipy.signal.gaussian(reference.shape[-1], 100),\n",
    ")\n",
    "sigma /= sigma.max()\n",
    "sigma = (1 - sigma) * 32\n",
    "log_sigma = jax.nn.relu(jnp.log2(sigma))\n",
    "log_sigma = jnp.full(log_sigma.shape, 5.)\n",
    "\n",
    "plt.imshow(log_sigma)\n",
    "plt.colorbar()\n"
   ]
  },
  {
   "cell_type": "code",
   "execution_count": null,
   "metadata": {
    "id": "rBFokxmgerNz"
   },
   "outputs": [],
   "source": [
    "params = read_params()\n",
    "reference_features = compute_features(params, reference)\n",
    "\n",
    "print([f.shape for f in reference_features])\n"
   ]
  },
  {
   "cell_type": "code",
   "execution_count": null,
   "metadata": {
    "id": "-6HNhh_ajIkq"
   },
   "outputs": [],
   "source": [
    "f = reference_features[1][-2]\n",
    "plt.imshow(f)\n",
    "print(f.max())\n",
    "print(f.min())\n"
   ]
  },
  {
   "cell_type": "code",
   "execution_count": null,
   "metadata": {
    "id": "YF14g7zVmyk4"
   },
   "outputs": [],
   "source": [
    "def loss_fn(image, levels=5):\n",
    "  features = compute_features(params, image)\n",
    "  loss = 0.\n",
    "  stuff = defaultdict(list)\n",
    "  assert len(features) == len(reference_features)\n",
    "  for i, (feat, feat_ref) in enumerate(zip(features, reference_features)):\n",
    "    ls = jax.image.resize(log_sigma, feat.shape[1:], \"linear\", antialias=True)\n",
    "    ls = jax.nn.relu(ls - jnp.log2(log_sigma.shape[-1] / feat.shape[-1]))\n",
    "    l, s = wasserstein_distortion(feat, feat_ref, ls, levels=levels)\n",
    "    loss += l\n",
    "    if i > 0:\n",
    "      levels = max(levels - 1, 0)\n",
    "    for j in s:\n",
    "      stuff[j].append(s[j])\n",
    "  return loss, stuff\n",
    "\n",
    "\n",
    "@jax.jit\n",
    "def train_step(image, opt_state):\n",
    "  (loss, stuff), grad = jax.value_and_grad(loss_fn, has_aux=True)(image)\n",
    "  update, opt_state = optimizer.update(grad, opt_state)\n",
    "  image = optax.apply_updates(image, update)\n",
    "  return loss, image, opt_state, stuff\n",
    "\n",
    "\n",
    "def visualize(image, history, stuff=None):\n",
    "  colab.output.clear(wait=True)\n",
    "\n",
    "  imgs = [image, reference, reference - image + .5]\n",
    "  imgs = [jnp.transpose(i, (1, 2, 0)) for i in imgs]\n",
    "  mediapy.show_images(imgs)\n",
    "\n",
    "  if stuff is not None:\n",
    "    for i in range(len(stuff[\"weights\"])):\n",
    "      for j in range(len(stuff[\"weights\"][i])):\n",
    "        mediapy.show_images([\n",
    "            stuff[\"weights\"][i][j],\n",
    "            stuff[\"wd_maps\"][i][j][0],\n",
    "        ], vmin=0, vmax=1)\n",
    "\n",
    "  plt.figure()\n",
    "  plt.plot(history[\"loss\"])\n",
    "  plt.xlabel(\"epoch\")\n",
    "  plt.ylabel(\"loss\")\n",
    "  plt.yscale(\"log\")\n",
    "  plt.grid()\n",
    "\n",
    "  plt.show()\n"
   ]
  },
  {
   "cell_type": "code",
   "execution_count": null,
   "metadata": {
    "id": "ZnLAAgG51FAE"
   },
   "outputs": [],
   "source": [
    "%no_vertical_scrollbar\n",
    "\n",
    "num_epochs = 300\n",
    "steps_per_epoch = 20\n",
    "\n",
    "optimizer = optax.adam(learning_rate=1e-2)\n",
    "image = jax.random.uniform(jax.random.PRNGKey(8762345), shape=reference.shape)\n",
    "opt_state = optimizer.init(image)\n",
    "history = defaultdict(list)\n",
    "visualize(image, history)\n",
    "\n",
    "for epoch in range(num_epochs):\n",
    "  results = defaultdict(lambda: 0)\n",
    "  for _ in range(steps_per_epoch):\n",
    "    loss, image, opt_state, stuff = train_step(image, opt_state)\n",
    "    results[\"loss\"] += loss\n",
    "  for k in results:\n",
    "    history[k].append(results[k] / steps_per_epoch)\n",
    "  visualize(image, history, stuff)\n"
   ]
  },
  {
   "cell_type": "code",
   "execution_count": null,
   "metadata": {
    "id": "WqFeEdaV2rka"
   },
   "outputs": [],
   "source": []
  }
 ],
 "metadata": {
  "accelerator": "GPU",
  "colab": {
   "provenance": []
  },
  "gpuClass": "standard",
  "kernelspec": {
   "display_name": "Python 3 (ipykernel)",
   "language": "python",
   "name": "python3"
  },
  "language_info": {
   "codemirror_mode": {
    "name": "ipython",
    "version": 3
   },
   "file_extension": ".py",
   "mimetype": "text/x-python",
   "name": "python",
   "nbconvert_exporter": "python",
   "pygments_lexer": "ipython3",
   "version": "3.10.12"
  }
 },
 "nbformat": 4,
 "nbformat_minor": 1
}
